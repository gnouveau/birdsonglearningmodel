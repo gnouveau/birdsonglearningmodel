{
 "cells": [
  {
   "cell_type": "code",
   "execution_count": 1,
   "metadata": {},
   "outputs": [],
   "source": [
    "# %pylab --no-import-all # bug tkinter\n",
    "%matplotlib inline\n",
    "import seaborn as sns\n",
    "import sys\n",
    "import pandas as pd\n",
    "from ipywidgets import widgets\n",
    "from IPython.display import Markdown, display, clear_output, Audio\n",
    "import os\n",
    "from os.path import join, isdir\n",
    "from glob import iglob\n",
    "import json\n",
    "from pprint import pformat\n",
    "import utils\n",
    "import pickle\n",
    "import io\n",
    "import base64\n",
    "from scipy.io import wavfile\n",
    "import birdsonganalysis as bsa\n",
    "\n",
    "sys.path.append('../model')\n",
    "\n",
    "from song_model import SongModel\n",
    "\n",
    "sns.set_palette('colorblind')"
   ]
  },
  {
   "cell_type": "code",
   "execution_count": 2,
   "metadata": {},
   "outputs": [],
   "source": [
    "gridpath = '../model/res/cluster_simulation_180523_184444/'\n",
    "run_paths = sorted([run_path for run_path in iglob(join(gridpath, '*')) if isdir(run_path)])\n",
    "\n",
    "gridanalysis = utils.GridAnalyser(run_paths, figsize=(10, 10/2.3), save_fig=False)"
   ]
  },
  {
   "cell_type": "code",
   "execution_count": null,
   "metadata": {},
   "outputs": [],
   "source": [
    "# with open(join(gridpath, 'desc.md')) as f:\n",
    "#     display(Markdown(f.read()))"
   ]
  },
  {
   "cell_type": "code",
   "execution_count": 3,
   "metadata": {
    "scrolled": false
   },
   "outputs": [
    {
     "data": {
      "application/vnd.jupyter.widget-view+json": {
       "model_id": "dde341b077c940a8bc27f92b09217a96",
       "version_major": 2,
       "version_minor": 0
      },
      "text/plain": [
       "ToggleButtons(options=('seed0',), value='seed0')"
      ]
     },
     "metadata": {},
     "output_type": "display_data"
    },
    {
     "data": {
      "application/vnd.jupyter.widget-view+json": {
       "model_id": "ce52a042c51b43a4bb5fbde934c0a9f9",
       "version_major": 2,
       "version_minor": 0
      },
      "text/plain": [
       "ToggleButtons(options=('optimise_gesture_padded', 'optimise_gesture_whole'), value='optimise_gesture_padded')"
      ]
     },
     "metadata": {},
     "output_type": "display_data"
    },
    {
     "data": {
      "application/vnd.jupyter.widget-view+json": {
       "model_id": "d6b1afccf824493e8f6aae55b60c5517",
       "version_major": 2,
       "version_minor": 0
      },
      "text/plain": [
       "ToggleButtons(options=('gilles_fast_boari_short',), value='gilles_fast_boari_short')"
      ]
     },
     "metadata": {},
     "output_type": "display_data"
    },
    {
     "data": {
      "application/vnd.jupyter.widget-view+json": {
       "model_id": "164ee4dca5c244c1a1756eb8282adc05",
       "version_major": 2,
       "version_minor": 0
      },
      "text/plain": [
       "ToggleButtons(options=('on_alpha_silence_beta', 'zero_alpha_zero_beta'), value='on_alpha_silence_beta')"
      ]
     },
     "metadata": {},
     "output_type": "display_data"
    },
    {
     "data": {
      "application/vnd.jupyter.widget-view+json": {
       "model_id": "8377100b28a64c7db2390d4c2917a1b1",
       "version_major": 2,
       "version_minor": 0
      },
      "text/plain": [
       "ToggleButtons(options=('default_coef',), value='default_coef')"
      ]
     },
     "metadata": {},
     "output_type": "display_data"
    },
    {
     "data": {
      "application/vnd.jupyter.widget-view+json": {
       "model_id": "4a1f671d52694f659c76325daef694db",
       "version_major": 2,
       "version_minor": 0
      },
      "text/plain": [
       "ToggleButtons(options=('default_dev', 'slow_dev'), value='default_dev')"
      ]
     },
     "metadata": {},
     "output_type": "display_data"
    },
    {
     "data": {
      "application/vnd.jupyter.widget-view+json": {
       "model_id": "c44edc1fe8794d5ca9ef6da8c0208d5f",
       "version_major": 2,
       "version_minor": 0
      },
      "text/plain": [
       "ToggleButtons(options=('500_replay',), value='500_replay')"
      ]
     },
     "metadata": {},
     "output_type": "display_data"
    },
    {
     "data": {
      "application/vnd.jupyter.widget-view+json": {
       "model_id": "517444d270eb49b5be2cadd674405c79",
       "version_major": 2,
       "version_minor": 0
      },
      "text/plain": [
       "ToggleButtons(options=('50_conc',), value='50_conc')"
      ]
     },
     "metadata": {},
     "output_type": "display_data"
    },
    {
     "data": {
      "application/vnd.jupyter.widget-view+json": {
       "model_id": "28b7b3c2e5e34769bb1d4f12c03cbe25",
       "version_major": 2,
       "version_minor": 0
      },
      "text/plain": [
       "ToggleButtons(options=('3_day_conc',), value='3_day_conc')"
      ]
     },
     "metadata": {},
     "output_type": "display_data"
    },
    {
     "data": {
      "application/vnd.jupyter.widget-view+json": {
       "model_id": "f7fcad45aa704ffe862bd541abeec63e",
       "version_major": 2,
       "version_minor": 0
      },
      "text/plain": [
       "ToggleButtons(options=('10days', '15days', '20days', '5days'), value='10days')"
      ]
     },
     "metadata": {},
     "output_type": "display_data"
    },
    {
     "data": {
      "application/vnd.jupyter.widget-view+json": {
       "model_id": "2a7ae34a3da841938c642fd1039028c8",
       "version_major": 2,
       "version_minor": 0
      },
      "text/plain": [
       "HTML(value='')"
      ]
     },
     "metadata": {},
     "output_type": "display_data"
    },
    {
     "data": {
      "application/vnd.jupyter.widget-view+json": {
       "model_id": "0c0e56c485754a86ba1c60176ec18c85",
       "version_major": 2,
       "version_minor": 0
      },
      "text/plain": [
       "IntSlider(value=0, max=31)"
      ]
     },
     "metadata": {},
     "output_type": "display_data"
    },
    {
     "data": {
      "application/vnd.jupyter.widget-view+json": {
       "model_id": "dae227c49e684e6da59e16116ce2f4c9",
       "version_major": 2,
       "version_minor": 0
      },
      "text/plain": [
       "VBox()"
      ]
     },
     "metadata": {},
     "output_type": "display_data"
    },
    {
     "name": "stderr",
     "output_type": "stream",
     "text": [
      "/home/gnouveau/.virtualenvs/birdsong/lib/python3.5/site-packages/seaborn/timeseries.py:183: UserWarning: The tsplot function is deprecated and will be removed or replaced (in a substantially altered version) in a future release.\n",
      "  warnings.warn(msg, UserWarning)\n"
     ]
    },
    {
     "name": "stdout",
     "output_type": "stream",
     "text": [
      "boari score 141.02719930771806\n",
      "boari score 141.02719930771806\n",
      "boari score 141.02719930771806\n",
      "boari score 141.02719930771806\n",
      "boari score 141.02719930771806\n",
      "boari score 141.02719930771806\n",
      "boari score 141.02719930771806\n",
      "boari score 141.02719930771806\n",
      "boari score 141.02719930771806\n",
      "boari score 141.02719930771806\n",
      "boari score 141.02719930771806\n",
      "boari score 141.02719930771806\n",
      "boari score 141.02719930771806\n"
     ]
    }
   ],
   "source": [
    "sns.set_context('talk')\n",
    "\n",
    "vbox = widgets.VBox() # Displays multiple widgets vertically using the flexible box model\n",
    "\n",
    "out = widgets.HTML()\n",
    "\n",
    "tbs = []\n",
    "# Organization of the toggle buttons\n",
    "for options in gridanalysis.options_list:\n",
    "    tb = widgets.ToggleButtons()\n",
    "    tb.options = sorted(list(options))\n",
    "    display(tb)\n",
    "    tbs.append(tb)\n",
    "\n",
    "def find_id(value):\n",
    "    out.value = 'looking'\n",
    "    v = 'Not Found'\n",
    "    for i in range(len(gridanalysis.run_paths)):\n",
    "        if gridanalysis.conf[i]['name'] == '+'.join([tb.value for tb in tbs]):\n",
    "            slider.value = i\n",
    "            v = 'Found'\n",
    "            break\n",
    "    out.value = v\n",
    "    \n",
    "slider = widgets.IntSlider(min=0, max=len(run_paths)-1)\n",
    "slider.observe(lambda x: gridanalysis.show(x['new'], vbox), names='value')\n",
    "display(out)\n",
    "display(slider)\n",
    "display(vbox)\n",
    "\n",
    "gridanalysis.show(slider.value, vbox)\n",
    "\n",
    "for tb in tbs:\n",
    "    tb.observe(lambda x: find_id(x['new']), names='value')"
   ]
  },
  {
   "cell_type": "code",
   "execution_count": 4,
   "metadata": {
    "scrolled": false
   },
   "outputs": [
    {
     "name": "stdout",
     "output_type": "stream",
     "text": [
      "ba_example:\t264.09166641333206\t437.1641643289677\n",
      "ba_example sans crop:\t264.09166641333206\t437.1641643289677\n",
      "ba_example sans threshold\t264.8422811350109\t728.8412619379059\n",
      "\n",
      "ba_syllable_a:\t49.11580468593274\t72.22340563047308\n",
      "ba_syllable_a sans crop:\t48.68630985550633\t68.36210072116495\n",
      "ba_syllable_a sans threshold\t48.912692603418726\t68.11400777443828\n",
      "\n",
      "ba_syllable_a_end:\t41.834222001162956\t60.35648897773306\n",
      "ba_syllable_a_end sans crop:\t40.44343214560718\t56.744799510162125\n",
      "ba_syllable_a_end sans threshold\t40.147448123418684\t55.803978590344094\n",
      "\n",
      "ba_syllable_b:\t79.74960927481429\t119.66241622830918\n",
      "ba_syllable_b sans crop:\t74.23203947543155\t111.8401642664906\n",
      "ba_syllable_b sans threshold\t73.65774030773505\t110.95777458935962\n",
      "\n",
      "bells:\t1848.6922714211405\t2761.6091343714756\n",
      "bells sans crop:\t339.8897523505728\t681.4822216300065\n",
      "bells sans threshold\t331.0653445041053\t718.7729354082376\n",
      "\n",
      "bells_short:\t260.32592217437065\t471.91994565134684\n",
      "bells_short sans crop:\t242.67019989855606\t445.9723113771407\n",
      "bells_short sans threshold\t242.41884213752584\t445.48068442729846\n",
      "\n",
      "boari_short:\t141.02719930771806\t232.43289313680748\n",
      "boari_short sans crop:\t141.02719930771806\t232.43289313680748\n",
      "boari_short sans threshold\t138.97682413091965\t304.58748285688733\n",
      "\n",
      "flashcam:\t1124.1433342021721\t1483.399351169755\n",
      "flashcam sans crop:\t1124.1433342021721\t1483.399351169755\n",
      "flashcam sans threshold\t255.6556194246742\t792.1763458708878\n",
      "\n",
      "samba:\t207.4844611318891\t477.94034470100615\n",
      "samba sans crop:\t206.7349536179232\t477.0636187421169\n",
      "samba sans threshold\t206.63421975215834\t519.2092859799066\n",
      "\n",
      "simple:\t896.347609576994\t1330.5932402882754\n",
      "simple sans crop:\t896.347609576994\t1330.5932402882754\n",
      "simple sans threshold\t222.0093309651401\t573.6359580659699\n",
      "\n"
     ]
    }
   ],
   "source": [
    "#################################################################\n",
    "# TEST SCORE DE PAUL SUR LES CHANTS SYNTHETISES DE BOARI\n",
    "#################################################################\n",
    "\n",
    "import matplotlib.pyplot as plt\n",
    "from os.path import basename\n",
    "import numpy as np\n",
    "from measures import bsa_measure\n",
    "\n",
    "liste_nom_chanson = ['ba_example', 'ba_syllable_a',\n",
    "                     'ba_syllable_a_end', 'ba_syllable_b', \n",
    "                     'bells', 'bells_short', 'boari_short',\n",
    "                     'flashcam', 'samba', 'simple']\n",
    "\n",
    "liste_coefs = [{\"fm\": 1,\n",
    "                \"am\": 1,\n",
    "                \"entropy\": 1,\n",
    "                \"goodness\": 1,\n",
    "                \"amplitude\": 1,\n",
    "                \"pitch\": 1},\n",
    "                {\"fm\": 1,\n",
    "                \"am\": 1,\n",
    "                \"entropy\": 5,\n",
    "                \"goodness\": 1,\n",
    "                \"amplitude\": 5,\n",
    "                \"pitch\": 1}]\n",
    "for nom_chanson in liste_nom_chanson:\n",
    "    sr, synth = wavfile.read('../data/{}_out.wav'.format(nom_chanson))                                 \n",
    "    \n",
    "    res1 = '{}:'.format(nom_chanson)\n",
    "    res2 = '{} sans crop:'.format(nom_chanson)\n",
    "    res3 = '{} sans threshold'.format(nom_chanson)\n",
    "    for coefs in liste_coefs:\n",
    "        gridanalysis.conf[0]['coefs'] = coefs\n",
    "        amp = bsa.song_amplitude(synth, 256, 40, 1024)\n",
    "    #     plt.figure(figsize=(10, 5))\n",
    "    #     plt.plot(amp)\n",
    "    #     plt.title('amp')\n",
    "    #     plt.show()\n",
    "\n",
    "        sort_amp = np.sort(amp)\n",
    "        i_max_diff = np.argmax(utils._running_mean(np.diff(sort_amp), 100))\n",
    "        th = sort_amp[i_max_diff]\n",
    "\n",
    "        sort_amp = sort_amp[len(sort_amp)//10:]\n",
    "    #     plt.figure(figsize=(10, 5))\n",
    "    #     plt.plot(sort_amp)\n",
    "    #     plt.title('sort_amp')\n",
    "    #     plt.show()\n",
    "\n",
    "    #     amp_diff = np.diff(sort_amp)\n",
    "    #     plt.figure(figsize=(10, 5))\n",
    "    #     plt.plot(amp_diff)\n",
    "    #     plt.title('amp_diff')\n",
    "    #     plt.show()\n",
    "\n",
    "    #     amp_diff_smoothed = utils._running_mean(np.diff(sort_amp), 100)\n",
    "    #     plt.figure(figsize=(10, 5))\n",
    "    #     plt.plot(amp_diff_smoothed)\n",
    "    #     plt.title('amp_diff_smoothed')\n",
    "    #     plt.show()\n",
    "\n",
    "        i_max_diff = np.argmax(utils._running_mean(np.diff(sort_amp), 100))\n",
    "        threshold = sort_amp[i_max_diff]\n",
    "\n",
    "    #     plt.figure(figsize=(10, 5))\n",
    "    #     plt.plot(amp)\n",
    "    #     plt.axhline(y=threshold, color=\"k\", linewidth=1)\n",
    "    #     plt.title('amp')\n",
    "    #     plt.show()\n",
    "\n",
    "        sr, tutor = wavfile.read('../data/{}.wav'.format(nom_chanson))\n",
    "        msynth = bsa_measure(synth, 44100, coefs=gridanalysis.conf[0]['coefs'])\n",
    "        mtutor = bsa_measure(tutor, 44100, coefs=gridanalysis.conf[0]['coefs'])\n",
    "        score = np.linalg.norm(msynth[amp > threshold] - mtutor[amp > threshold]) / np.sum(amp > threshold) * len(amp)\n",
    "\n",
    "        res1 += '\\t' + str(score)\n",
    "\n",
    "        score = np.linalg.norm(msynth[amp > th] - mtutor[amp > th]) / np.sum(amp > th) * len(amp)\n",
    "        res2 += '\\t' + str(score)\n",
    "\n",
    "        score = np.linalg.norm(msynth - mtutor)\n",
    "\n",
    "        res3 += '\\t' + str(score)\n",
    "    \n",
    "    print(res1)\n",
    "    print(res2)\n",
    "    print(res3)\n",
    "    print()"
   ]
  }
 ],
 "metadata": {
  "kernelspec": {
   "display_name": "Python 3",
   "language": "python",
   "name": "python3"
  },
  "language_info": {
   "codemirror_mode": {
    "name": "ipython",
    "version": 3
   },
   "file_extension": ".py",
   "mimetype": "text/x-python",
   "name": "python",
   "nbconvert_exporter": "python",
   "pygments_lexer": "ipython3",
   "version": "3.5.2+"
  },
  "widgets": {
   "state": {
    "213dc6a74a30427eb933c54849c560e2": {
     "views": [
      {
       "cell_index": 4
      }
     ]
    },
    "24eff04fb09442c884f2e5b745ee3117": {
     "views": [
      {
       "cell_index": 3
      }
     ]
    },
    "3b7ad9e8bc3a41cba23231e47a6b8cf7": {
     "views": [
      {
       "cell_index": 3
      }
     ]
    },
    "445d2b52aeab45b3acc50bce5bed2a22": {
     "views": [
      {
       "cell_index": 3
      }
     ]
    },
    "46aefde592ad4a63adc53cb055c842ac": {
     "views": [
      {
       "cell_index": 3
      }
     ]
    },
    "4d07908ca95049d991852a0847450e60": {
     "views": [
      {
       "cell_index": 3
      }
     ]
    },
    "6ba5c7bbb6584717bf5a0042f8782d0b": {
     "views": [
      {
       "cell_index": 3
      }
     ]
    },
    "835efa3f62a04b49a07099f5736044df": {
     "views": [
      {
       "cell_index": 3
      }
     ]
    },
    "b23cef4771f74a18940c75f2f9d44613": {
     "views": [
      {
       "cell_index": 3
      }
     ]
    },
    "d8439e32423f4a00b9c30987a2b7d2bc": {
     "views": [
      {
       "cell_index": 3
      }
     ]
    },
    "d999a9d8771e482ca1d01ec3741143bc": {
     "views": [
      {
       "cell_index": 3
      }
     ]
    },
    "de8bc7fb9ea7402f8ac500fc8189216f": {
     "views": [
      {
       "cell_index": 3
      }
     ]
    },
    "f2c38dd7950d49429273aa157ebddab6": {
     "views": [
      {
       "cell_index": 3
      }
     ]
    }
   },
   "version": "1.2.0"
  }
 },
 "nbformat": 4,
 "nbformat_minor": 2
}
