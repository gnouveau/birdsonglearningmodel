{
 "cells": [
  {
   "cell_type": "markdown",
   "metadata": {},
   "source": [
    "Objectifs :\n",
    "- Etudier pas à pas les étapes de l'algo de jour\n",
    "\n",
    "Buts possibles :\n",
    "- Tenter de comprendre l'impact du choix du nombre d'itérations par entrainement et du nombre d'iterations par jour\n",
    "- Voir si tous les gestes sont optimisés uniformement"
   ]
  },
  {
   "cell_type": "markdown",
   "metadata": {},
   "source": [
    "Ce qui est fait dans le notebook pour le moment : A partir d'un fichier log (Je n'ai que 2 fichiers pour le moment malheureusement...), pour toute les phases de jour, pour chaque entrainement, j'ai compté le nombre de fois que cet entrainement amenait une amélioration du score du chant\n",
    "\n",
    "Le nombre de fois que le 1er entrainement de la journée améliore, que le 2e de la journée améliore, etc... et celà pour chaque journée\n",
    "\n",
    "But : Voir si après un certain nombre d'itération on atteignait un seuil, càd que l'oiseau n'améliore plus aucun chant"
   ]
  },
  {
   "cell_type": "code",
   "execution_count": 16,
   "metadata": {},
   "outputs": [],
   "source": [
    "import json\n",
    "import matplotlib.pyplot as plt\n",
    "import numpy as np\n",
    "from os.path import join\n",
    "import pandas\n",
    "import pickle\n",
    "import re\n",
    "import sys\n",
    "\n",
    "sys.path.append('../model/')\n",
    "from song_model import SongModel\n",
    "\n",
    "fig_width = 16 # full screen: 16 / half screen: 10\n",
    "fig_height = 5"
   ]
  },
  {
   "cell_type": "markdown",
   "metadata": {},
   "source": [
    "# Day statistic from a songlog"
   ]
  },
  {
   "cell_type": "code",
   "execution_count": 26,
   "metadata": {},
   "outputs": [
    {
     "name": "stdout",
     "output_type": "stream",
     "text": [
      "train_per_day: 200\n",
      "[17. 15. 16. 18. 13. 12. 11. 15. 14. 16. 17. 18. 14. 12. 14. 14. 10. 18.\n",
      " 15. 16.  9. 12.  7. 18. 13. 10. 15. 14. 12.  8. 11.  9.  7. 11.  9. 14.\n",
      "  9. 10.  7.  7. 11. 14. 12. 13. 12.  9. 11. 11.  8. 12. 11. 10.  7.  4.\n",
      "  9.  9.  6. 11. 10. 10. 11.  8. 11.  7. 10. 14. 10.  6. 13. 11.  5.  7.\n",
      "  7.  8. 11. 11. 14.  9.  9.  6.  7.  8.  8.  7.  6.  8.  4.  5.  7.  7.\n",
      "  9.  8.  7.  7.  9. 15. 11.  6.  8. 10. 17.  6.  6.  8.  9. 11.  3.  8.\n",
      "  7. 12.  7.  8.  6.  7.  7.  8.  7.  8.  5. 10.  9. 12. 11. 14.  9.  6.\n",
      "  8.  9.  7.  7.  7. 10.  9.  9.  5.  5. 10.  7. 13.  3.  7.  8.  7.  9.\n",
      "  7.  9.  7.  4.  8.  9.  7.  9.  9. 12.  8. 12.  4.  7.  6.  9.  8.  7.\n",
      "  9. 10.  5.  7.  9.  4.  7.  3.  6.  7.  4.  7.  6.  7.  7.  3.  6.  5.\n",
      "  8.  9.  6.  7.  7. 12.  6.  6.  7.  6.  5.  4.  9.  6.  6.  4.  5.  4.\n",
      "  7.  4.]\n"
     ]
    },
    {
     "data": {
      "image/png": "[encoded data removed]",
      "text/plain": [
       "<Figure size 1152x360 with 1 Axes>"
      ]
     },
     "metadata": {},
     "output_type": "display_data"
    }
   ],
   "source": [
    "# 2 song log available from the cluster\n",
    "file_path = '../model/res/seed5+grid_div_th+500_diversity_th.e583083'\n",
    "# file_path = '../model/res/seed2+default_dev+dev_test.e583124'\n",
    "\n",
    "with open(file_path, 'r') as f:\n",
    "    line = f.readline()\n",
    "    \n",
    "    while not line.startswith(\" 'train_per_day': \") and line != '':\n",
    "        line = f.readline()\n",
    "    m = re.match(r\" 'train_per_day': (\\d+)\", line)\n",
    "    train_per_day = int(m.group(1))\n",
    "    res = np.zeros(train_per_day)\n",
    "    \n",
    "    while line != '':\n",
    "        if line.startswith('INFO:root:*'):\n",
    "            m = re.match(r'.*Day (\\d+)', line)\n",
    "            i_day = m.group(1)\n",
    "        if line.startswith('INFO:DayOptim:'):\n",
    "            m = re.match(r'^INFO:DayOptim:(\\d+)/'+str(train_per_day)+'.*score (\\d+\\.\\d+)', line)\n",
    "            i = int(m.group(1))\n",
    "            pre_score = float(m.group(2))\n",
    "            line = f.readline()\n",
    "            m = re.match(r'.* (\\d+\\.\\d+)', line)\n",
    "            new_score = float(m.group(1))\n",
    "            if new_score < pre_score:\n",
    "                res[i-1] +=1\n",
    "        \n",
    "        line = f.readline()\n",
    "\n",
    "print(\"train_per_day:\", train_per_day)\n",
    "print(res)\n",
    "\n",
    "plt.figure(figsize=(fig_width, fig_height))\n",
    "# plt.bar(np.arange(1, train_per_day+1),res)\n",
    "plt.plot(np.arange(1, train_per_day+1),res, 'o')\n",
    "plt.show()"
   ]
  },
  {
   "cell_type": "markdown",
   "metadata": {},
   "source": [
    "# Test Regex"
   ]
  },
  {
   "cell_type": "code",
   "execution_count": null,
   "metadata": {},
   "outputs": [],
   "source": [
    "line = \" 'train_per_day': 600,\"\n",
    "m = re.match(r\" 'train_per_day': (\\d+)\", line)\n",
    "print(m.group(0))\n",
    "print(m.group(1))"
   ]
  },
  {
   "cell_type": "code",
   "execution_count": null,
   "metadata": {},
   "outputs": [],
   "source": [
    "line = 'INFO:root:*\t*\t*\tDay 17 of 30\t*\t*\t*'\n",
    "m = re.match(r'.*Day (\\d+)', line)\n",
    "print(m.group(0))\n",
    "print(m.group(1))"
   ]
  },
  {
   "cell_type": "code",
   "execution_count": null,
   "metadata": {},
   "outputs": [],
   "source": [
    "line = 'INFO:DayOptim:129/200: fit gesture 1 of song 2 (length 19014, score 12.991580499303726)'\n",
    "m = re.match(r'^INFO:DayOptim:(\\d*)/200.*score (\\d+\\.\\d+)', line)\n",
    "print(m.group(0))\n",
    "print(m.group(1))\n",
    "print(m.group(2))\n"
   ]
  },
  {
   "cell_type": "code",
   "execution_count": null,
   "metadata": {},
   "outputs": [],
   "source": [
    "line = 'INFO:DayOptim:new score 16.067209981065453'\n",
    "m = re.match(r'.* (\\d+\\.\\d+)', line)\n",
    "print(m.group(0))\n",
    "print(m.group(1))"
   ]
  },
  {
   "cell_type": "markdown",
   "metadata": {},
   "source": [
    "# Day statistics from simulation data"
   ]
  },
  {
   "cell_type": "code",
   "execution_count": 22,
   "metadata": {},
   "outputs": [],
   "source": [
    "# path of the folder with the results\n",
    "path = '../model/res/'\n",
    "\n",
    "# -- Cluster simulations --\n",
    "path += 'dlm_nlm_equilibrium_180807_173045/'\n",
    "\n",
    "# -- All parameters are defined at the same time --\n",
    "param_name = \"seed0+dlm_nlm_equilibrium+200_trainings+50_iter+10_night_conc+100_replay\"\n",
    "path += param_name\n",
    "\n",
    "with open(join(path, 'conf.json'), 'r') as f:\n",
    "    run_param = json.load(f)\n",
    "with open(join(path, 'data.pkl'), 'rb') as f:\n",
    "    songlog = pickle.load(f)\n",
    "    \n",
    "day_data = [item[1] for item in songlog if item[0] == 'day']\n",
    "dd = pandas.DataFrame(day_data)"
   ]
  },
  {
   "cell_type": "code",
   "execution_count": 23,
   "metadata": {},
   "outputs": [
    {
     "data": {
      "text/plain": [
       "array([14., 17.,  7.,  9., 13.,  8., 12.,  9., 12.,  5., 10., 13., 10.,\n",
       "       11.,  9., 10.,  7.,  8.,  8., 12.,  9.,  8.,  8., 12.,  7.,  8.,\n",
       "        7., 10.,  8., 10.,  9.,  5.,  6.,  3., 13.,  7.,  8.,  7., 10.,\n",
       "        7.,  7.,  7.,  9.,  4.,  9.,  9.,  5.,  7.,  3.,  7.,  4.,  7.,\n",
       "        1.,  5.,  7.,  5.,  7.,  8.,  9., 11.,  6.,  4.,  6.,  6.,  4.,\n",
       "        7.,  6.,  6., 10.,  7.,  5.,  9., 10.,  6.,  6., 10.,  6.,  8.,\n",
       "        3.,  8.,  6.,  8.,  8.,  7.,  7.,  9.,  6.,  6.,  8.,  6.,  6.,\n",
       "        5.,  6.,  5.,  7., 11.,  5.,  5.,  8.,  6.,  7.,  5.,  6.,  9.,\n",
       "        6., 13.,  5.,  7.,  5.,  4.,  7.,  7.,  4.,  9.,  5.,  5.,  4.,\n",
       "        7.,  6.,  6.,  7.,  8.,  5.,  4.,  9.,  8.,  2.,  4.,  6.,  5.,\n",
       "       10., 10.,  5.,  4.,  7.,  5.,  5.,  5.,  3.,  1.,  4.,  1.,  5.,\n",
       "        7.,  1.,  8.,  4.,  5.,  3.,  5.,  6.,  7.,  4.,  4.,  5.,  9.,\n",
       "        3.,  5.,  3.,  8.,  7., 10.,  5.,  4.,  3.,  3.,  5.,  3.,  4.,\n",
       "        4., 10.,  3.,  8.,  5.,  5.,  8.,  3.,  6.,  2.,  5.,  5.,  5.,\n",
       "        1.,  5.,  5.,  4.,  5.,  4.,  8.,  0.,  3.,  4.,  5.,  4.,  6.,\n",
       "        4.,  5.,  4.,  4.,  3.])"
      ]
     },
     "execution_count": 23,
     "metadata": {},
     "output_type": "execute_result"
    }
   ],
   "source": [
    "dd['improvement_cpt'].sum()"
   ]
  },
  {
   "cell_type": "code",
   "execution_count": 24,
   "metadata": {},
   "outputs": [
    {
     "data": {
      "image/png": "[encoded data removed]",
      "text/plain": [
       "<Figure size 1152x360 with 1 Axes>"
      ]
     },
     "metadata": {},
     "output_type": "display_data"
    }
   ],
   "source": [
    "plt.figure(figsize=(fig_width, fig_height))\n",
    "x = np.arange(1, run_param['train_per_day']+1)\n",
    "y = dd['improvement_cpt'].sum()\n",
    "plt.scatter(x, y)\n",
    "plt.axhline(y=0, color='k', alpha=0.2)\n",
    "plt.show()"
   ]
  }
 ],
 "metadata": {
  "kernelspec": {
   "display_name": "Python 3",
   "language": "python",
   "name": "python3"
  },
  "language_info": {
   "codemirror_mode": {
    "name": "ipython",
    "version": 3
   },
   "file_extension": ".py",
   "mimetype": "text/x-python",
   "name": "python",
   "nbconvert_exporter": "python",
   "pygments_lexer": "ipython3",
   "version": "3.5.2+"
  }
 },
 "nbformat": 4,
 "nbformat_minor": 2
}
